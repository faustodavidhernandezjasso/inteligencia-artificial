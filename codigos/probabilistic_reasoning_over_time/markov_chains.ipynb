{
 "cells": [
  {
   "cell_type": "markdown",
   "metadata": {},
   "source": [
    "# Cadenas de Markov \n",
    "También son llamados como procesos de Markov.\n",
    "## Definición\n",
    "Es un proceso estocástico con la propiedad de que para cualquier conjunto sucesivo de \n",
    "$n$ tiempos tales que $t_{1} < t_{2} < \\dotsc < t_{n}$ se tiene que:\n",
    "$$\n",
    "    P_{1 | n - 1}\\left(y_{n} , t_{n} | y_{1}, t_{1}; \\dotsc ; y_{n - 1}, t_{n-1}\\right) = P_{1 | 1}\\left( y_n, t_n | y_{n - 1}, t_{n - 1}\\right)\n",
    "$$\n",
    "Esto es que la densidad de probabilidad condicionada a $t_{n}$ dada el valor $y_{n-1}$ a $t_{n-1}$ está unívocamente determinada y no está afectada por lo que ocurre a tiempos anteriores. A $P_{1 | 1}$ se le conoce como la **probabilidad de transición**.\n",
    "## Definición (no tan formal).\n",
    "Una cadena o proceso de **Markov** es un proceso evolutivo que consiste de un número finito de estados en cual la probabilidad de que ocurra un evento depende solamente del evento inmediatamente anterior con unas probabilidades que están fijas.\n"
   ]
  },
  {
   "cell_type": "markdown",
   "metadata": {},
   "source": [
    "# Ejemplo\n",
    "## Mercado de valores\n",
    "![Cadena de Markov](imgs/Finance_Markov_chain_example_state_space.jpg)"
   ]
  },
  {
   "cell_type": "markdown",
   "metadata": {},
   "source": [
    "Los estados representan si un mercado bursátil (hipotético) muestra una tendencia alcista, bajista o de estancamiento durante una semana determinada. Según la gráfica dirigida anterior, sí pasamos una semana con tendencia alcista, entonces hay probabilidad de $90\\%$ que la siguiente semana sea con tendencia alcista, $7.5\\%$ de que sea una semana con tendencia a la baja y $2.5\\%$ de que la siguiente semana se estanque.\n",
    "Notemos que la gráfica anterior cumple lo siguiente:\n",
    "* **La pesos de todas las aristas que salen del estado $S$, suman $1$.**\n",
    "\n",
    "*Lo anterior se sigue de los axiomas de probabilidad.*"
   ]
  },
  {
   "cell_type": "markdown",
   "metadata": {},
   "source": [
    "# Matriz de transición. \n",
    "$$\n",
    "    \\begin{bmatrix}\n",
    "        0.9  & 0.075 & 0.025 \\\\\n",
    "        0.15 & 0.8   & 0.05 \\\\\n",
    "        0.25 & 0.25  & 0.5\n",
    "    \\end{bmatrix}\n",
    "$$"
   ]
  },
  {
   "cell_type": "code",
   "execution_count": 65,
   "metadata": {},
   "outputs": [
    {
     "name": "stdout",
     "output_type": "stream",
     "text": [
      "Probabilidad de un mercado alcista:   0.626145\n",
      "Probabilidad de un mercado bajista:   0.311681\n",
      "Probabilidad de un mercado estancado: 0.062174\n"
     ]
    }
   ],
   "source": [
    "import numpy as np\n",
    "\n",
    "matrix_transition = np.matrix([[0.9, 0.075, 0.025], [0.15, 0.8, 0.05], [0.25, 0.25, 0.5]]) # Bull Market Bear Market Stagnant market\n",
    "\n",
    "def random_walk(num_iter):\n",
    "    init = np.random.randint(0, 3)\n",
    "    bull_market = 0\n",
    "    bear_market = 0\n",
    "    stagnant_market = 0\n",
    "    for i in range(num_iter):\n",
    "        r = np.random.rand()\n",
    "        if init == 0:\n",
    "            if r < 0.9:\n",
    "                bull_market += 1\n",
    "            elif r >= 0.9 and r < 0.975:\n",
    "                init = 1\n",
    "                bear_market += 1\n",
    "            else:\n",
    "                init = 2\n",
    "                stagnant_market += 1\n",
    "        elif init == 1:\n",
    "            if r < 0.15:\n",
    "                init = 0\n",
    "                bull_market += 1\n",
    "            elif r >= 0.15 and r < 0.95:\n",
    "                bear_market += 1\n",
    "            else: \n",
    "                init = 2\n",
    "                stagnant_market += 1\n",
    "        else:\n",
    "            if r < 0.25:\n",
    "                init = 0\n",
    "                bull_market += 1\n",
    "            elif r >= 0.25 and r < 0.5:\n",
    "                init = 1\n",
    "                bear_market += 1\n",
    "            else:\n",
    "                stagnant_market += 1\n",
    "    return (bull_market, bear_market, stagnant_market)\n",
    "    \n",
    "markets = random_walk(1000000)\n",
    "total = markets[0] + markets[1] + markets[2]\n",
    "print(\"Probabilidad de un mercado alcista:   \" + str(markets[0] / total))\n",
    "print(\"Probabilidad de un mercado bajista:   \" + str(markets[1] / total))\n",
    "print(\"Probabilidad de un mercado estancado: \" + str(markets[2] / total))"
   ]
  },
  {
   "cell_type": "markdown",
   "metadata": {},
   "source": [
    "# Distribución estacionaria\n",
    "Sea $p^{(t)}$ la probabilidad de la distribución después de $t$ pasos de un *random walk*. Definimos la distribución de probabilidad $a^{(t)}$ como sigue:\n",
    "$$\n",
    "    a^{(t)} = \\frac{1}{t}\\left(p^{(0)} + p^{(1)} + \\dotsc + p^{(t - 1)}\\right)\n",
    "$$\n",
    "Es decir, ésta distribución de probabilidad **no cambia con el tiempo** en la cadena de Markov."
   ]
  },
  {
   "cell_type": "markdown",
   "metadata": {},
   "source": [
    "# Teorema Fundamental de las cadenas de Markov\n",
    "Para toda cadena de Markov conectada existe un único vector $\\pi$ de probabilidad que satisface:\n",
    "$$\n",
    "    \\pi P = \\pi\n",
    "$$\n",
    "donde $P$ es la matriz de transición asociada a la cadena de Markov. Más aún, para cualquier distribución inicial, $\\lim_{t \\to \\infty} a^{t}$ existe y es igual a $\\pi$"
   ]
  },
  {
   "cell_type": "code",
   "execution_count": 61,
   "metadata": {},
   "outputs": [
    {
     "name": "stdout",
     "output_type": "stream",
     "text": [
      "[[0.625  0.3125 0.0625]]\n"
     ]
    }
   ],
   "source": [
    "bull_market = np.array([1, 0, 0]) # Supongamos que en el tiempo t = 0 es una semana con tendencia alcista.\n",
    "\n",
    "def find_distribution(matrix_transition, init):\n",
    "    pi = np.dot(init, matrix_transition)\n",
    "    while (pi != init).any():\n",
    "        init = pi\n",
    "        pi = np.dot(init, matrix_transition)\n",
    "    return pi\n",
    "\n",
    "print(find_distribution(matrix_transition, bull_market))"
   ]
  },
  {
   "cell_type": "markdown",
   "metadata": {},
   "source": [
    "Notemos que nuestra aproximación ejecutando *random walk*  es bastante buena y que de hecho cada que el número de iteraciones es más grande se va aproximando más al método con los vectores.\n",
    "\n",
    "Notemos que como el vector $\\pi$ denota una distribución de probabilidad entonces, el total de la suma de sus componentes es $1$.\n",
    "\n",
    "Así por lo que obtuvimos anteriormente concluimos lo siguiente:\n",
    "* El $62.5 \\%$ de las semanas serán a la alza.\n",
    "* El $31.25 \\%$ de las semanas se estancarán.\n",
    "* El $6.25 \\%$ de las semanas serán a la baja."
   ]
  }
 ],
 "metadata": {
  "kernelspec": {
   "display_name": "Python 3",
   "language": "python",
   "name": "python3"
  },
  "language_info": {
   "codemirror_mode": {
    "name": "ipython",
    "version": 3
   },
   "file_extension": ".py",
   "mimetype": "text/x-python",
   "name": "python",
   "nbconvert_exporter": "python",
   "pygments_lexer": "ipython3",
   "version": "3.11.4"
  }
 },
 "nbformat": 4,
 "nbformat_minor": 2
}
